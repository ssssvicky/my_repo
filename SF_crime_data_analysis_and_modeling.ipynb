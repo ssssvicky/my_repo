{
  "nbformat": 4,
  "nbformat_minor": 0,
  "metadata": {
    "colab": {
      "name": "SF crime data analysis and modeling.ipynb",
      "provenance": [],
      "authorship_tag": "ABX9TyOjiWBBAbeajLhIULiq9WW5",
      "include_colab_link": true
    },
    "kernelspec": {
      "name": "python3",
      "display_name": "Python 3"
    },
    "language_info": {
      "name": "python"
    }
  },
  "cells": [
    {
      "cell_type": "markdown",
      "metadata": {
        "id": "view-in-github",
        "colab_type": "text"
      },
      "source": [
        "<a href=\"https://colab.research.google.com/github/ssssvicky/my_repo/blob/main/SF_crime_data_analysis_and_modeling.ipynb\" target=\"_parent\"><img src=\"https://colab.research.google.com/assets/colab-badge.svg\" alt=\"Open In Colab\"/></a>"
      ]
    },
    {
      "cell_type": "code",
      "execution_count": null,
      "metadata": {
        "id": "thiO_Us5OFD3"
      },
      "outputs": [],
      "source": [
        "from csv import reader\n",
        "from pyspark.sql import Row \n",
        "from pyspark.sql import SparkSession\n",
        "from pyspark.sql.types import *\n",
        "import pandas as pd\n",
        "import numpy as np\n",
        "import seaborn as sb\n",
        "import matplotlib.pyplot as plt\n",
        "import warnings\n",
        "\n",
        "import os\n",
        "os.environ[\"PYSPARK_PYTHON\"] = \"python3\""
      ]
    },
    {
      "cell_type": "code",
      "source": [
        "# Read Data\n",
        "\n",
        "# Method 1: read data from url(SF gov)\n",
        "#import urllib.request\n",
        "#urllib.request.urlretrieve(\"https://data.sfgov.org/api/views/tmnf-yvry/rows.csv?accessType=DOWNLOAD\", \"/tmp/myxxxx.csv\")\n",
        "#dbutils.fs.mv(\"file:/tmp/myxxxx.csv\", \"dbfs:/laioffer/spark_hw1/data/sf_03_18.csv\")\n",
        "#display(dbutils.fs.ls(\"dbfs:/laioffer/spark_hw1/data/\"))\n",
        "\n",
        "# Method 2: download data\n",
        "# https://data.sfgov.org/api/views/tmnf-yvry/rows.csv?accessType=DOWNLOAD"
      ],
      "metadata": {
        "id": "Ftakka5XPZ4Q"
      },
      "execution_count": null,
      "outputs": []
    }
  ]
}